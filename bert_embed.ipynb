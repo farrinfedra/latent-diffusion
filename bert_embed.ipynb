{
 "cells": [
  {
   "cell_type": "code",
   "execution_count": 4,
   "id": "c3468756-cfab-4e43-8e49-56e3620b638f",
   "metadata": {},
   "outputs": [],
   "source": [
    "import torch\n",
    "import torch.nn as nn\n",
    "\n",
    "from ldm.modules.x_transformer import Encoder,  TransformerWrapper"
   ]
  },
  {
   "cell_type": "code",
   "execution_count": 5,
   "id": "ed3dbe64-5bfe-4460-b2d7-0d5bbab97c96",
   "metadata": {},
   "outputs": [],
   "source": [
    "class AbstractEncoder(nn.Module):\n",
    "    def __init__(self):\n",
    "        super().__init__()\n",
    "\n",
    "    def encode(self, *args, **kwargs):\n",
    "        raise NotImplementedError"
   ]
  },
  {
   "cell_type": "code",
   "execution_count": 6,
   "id": "510755e3-a3be-41b7-8a81-044eb9fe8b56",
   "metadata": {},
   "outputs": [],
   "source": [
    "class BERTTokenizer(AbstractEncoder):\n",
    "    \"\"\" Uses a pretrained BERT tokenizer by huggingface. Vocab size: 30522 (?)\"\"\"\n",
    "    def __init__(self, device=\"cuda\", vq_interface=True, max_length=77):\n",
    "        super().__init__()\n",
    "        from transformers import BertTokenizerFast  # TODO: add to reuquirements\n",
    "        self.tokenizer = BertTokenizerFast.from_pretrained(\"bert-base-uncased\")\n",
    "        self.device = device\n",
    "        self.vq_interface = vq_interface\n",
    "        self.max_length = max_length\n",
    "\n",
    "    def forward(self, text):\n",
    "        batch_encoding = self.tokenizer(text, truncation=True, max_length=self.max_length, return_length=True,\n",
    "                                        return_overflowing_tokens=False, padding=\"max_length\", return_tensors=\"pt\")\n",
    "        tokens = batch_encoding[\"input_ids\"].to(self.device)\n",
    "        return tokens\n",
    "\n",
    "    @torch.no_grad()\n",
    "    def encode(self, text):\n",
    "        tokens = self(text)\n",
    "        if not self.vq_interface:\n",
    "            return tokens\n",
    "        return None, None, [None, None, tokens]\n",
    "\n",
    "    def decode(self, text):\n",
    "        return text"
   ]
  },
  {
   "cell_type": "code",
   "execution_count": 7,
   "id": "1e4d116d-a7e7-485d-856c-e75a2e121379",
   "metadata": {},
   "outputs": [],
   "source": [
    "class BERTEmbedder(AbstractEncoder):\n",
    "    \"\"\"Uses the BERT tokenizr model and add some transformer encoder layers\"\"\"\n",
    "    def __init__(self, n_embed, n_layer, vocab_size=30522, max_seq_len=77,\n",
    "                 device=\"cuda\",use_tokenizer=True, embedding_dropout=0.0):\n",
    "        super().__init__()\n",
    "        self.use_tknz_fn = use_tokenizer\n",
    "        if self.use_tknz_fn:\n",
    "            self.tknz_fn = BERTTokenizer(vq_interface=False, max_length=max_seq_len)\n",
    "        self.device = device\n",
    "        self.transformer = TransformerWrapper(num_tokens=vocab_size, max_seq_len=max_seq_len,\n",
    "                                              attn_layers=Encoder(dim=n_embed, depth=n_layer),\n",
    "                                              emb_dropout=embedding_dropout)\n",
    "\n",
    "    def forward(self, text):\n",
    "        if self.use_tknz_fn:\n",
    "            tokens = self.tknz_fn(text)#.to(self.device)\n",
    "        else:\n",
    "            tokens = text\n",
    "        z = self.transformer(tokens, return_embeddings=True)\n",
    "        return z\n",
    "\n",
    "    def encode(self, text):\n",
    "        # output of length 77\n",
    "        return self(text)"
   ]
  }
 ],
 "metadata": {
  "kernelspec": {
   "display_name": "taming",
   "language": "python",
   "name": "taming"
  },
  "language_info": {
   "codemirror_mode": {
    "name": "ipython",
    "version": 3
   },
   "file_extension": ".py",
   "mimetype": "text/x-python",
   "name": "python",
   "nbconvert_exporter": "python",
   "pygments_lexer": "ipython3",
   "version": "3.8.5"
  }
 },
 "nbformat": 4,
 "nbformat_minor": 5
}
