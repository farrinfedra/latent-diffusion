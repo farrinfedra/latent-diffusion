{
 "cells": [
  {
   "cell_type": "code",
   "execution_count": 1,
   "id": "d36af17b-5a1b-4551-a968-b9977500ff07",
   "metadata": {},
   "outputs": [],
   "source": [
    "import glob\n",
    "from IPython.display import Image\n"
   ]
  },
  {
   "cell_type": "code",
   "execution_count": 2,
   "id": "14701e5f-b3e7-4569-8e83-a9be26699ba5",
   "metadata": {},
   "outputs": [],
   "source": [
    "path = \"/kuacc/users/bbiner21/Github/latent-diffusion/sample_logs/test1/test1/samples/00080659/2022-10-02-12-21-40/img/*\""
   ]
  },
  {
   "cell_type": "code",
   "execution_count": 45,
   "id": "1371fb9b-b395-4feb-8157-9256c561c272",
   "metadata": {
    "tags": []
   },
   "outputs": [],
   "source": [
    "path = \"/kuacc/users/bbiner21/Github/CIFAR-10-images/train/frog/*\""
   ]
  },
  {
   "cell_type": "code",
   "execution_count": null,
   "id": "00c395d0-6c19-4b30-9ada-011fcee5605c",
   "metadata": {},
   "outputs": [],
   "source": [
    "Github/latent-diffusion/sample_logs/test0/test0/samples/00113368/2022-09-26-14-20-31"
   ]
  },
  {
   "cell_type": "code",
   "execution_count": 3,
   "id": "d6898b91-2040-411f-b41f-f34ced5df3f7",
   "metadata": {
    "tags": []
   },
   "outputs": [],
   "source": [
    "temp = glob.glob(path)"
   ]
  },
  {
   "cell_type": "code",
   "execution_count": 4,
   "id": "985f9064-0052-4335-983a-ae4084642544",
   "metadata": {},
   "outputs": [
    {
     "data": {
      "text/plain": [
       "10000"
      ]
     },
     "execution_count": 4,
     "metadata": {},
     "output_type": "execute_result"
    }
   ],
   "source": [
    "len(temp)"
   ]
  },
  {
   "cell_type": "code",
   "execution_count": 14,
   "id": "2c47680d-decd-42b4-ad46-e2c097097f4d",
   "metadata": {},
   "outputs": [
    {
     "data": {
      "image/png": "[encoded data removed]",
      "text/plain": [
       "<IPython.core.display.Image object>"
      ]
     },
     "execution_count": 14,
     "metadata": {
      "image/png": {
       "height": 32,
       "width": 32
      }
     },
     "output_type": "execute_result"
    }
   ],
   "source": [
    "Image(filename=temp[37],width = 32, height = 32) \n"
   ]
  },
  {
   "cell_type": "code",
   "execution_count": null,
   "id": "ba44d4a1-11ef-4b21-a533-147b387893db",
   "metadata": {},
   "outputs": [],
   "source": []
  }
 ],
 "metadata": {
  "kernelspec": {
   "display_name": "taming",
   "language": "python",
   "name": "taming"
  },
  "language_info": {
   "codemirror_mode": {
    "name": "ipython",
    "version": 3
   },
   "file_extension": ".py",
   "mimetype": "text/x-python",
   "name": "python",
   "nbconvert_exporter": "python",
   "pygments_lexer": "ipython3",
   "version": "3.8.5"
  }
 },
 "nbformat": 4,
 "nbformat_minor": 5
}
