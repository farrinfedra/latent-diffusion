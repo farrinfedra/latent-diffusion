{
 "cells": [
  {
   "cell_type": "code",
   "execution_count": 1,
   "id": "c3468756-cfab-4e43-8e49-56e3620b638f",
   "metadata": {},
   "outputs": [],
   "source": [
    "import requests"
   ]
  },
  {
   "cell_type": "code",
   "execution_count": 2,
   "id": "510755e3-a3be-41b7-8a81-044eb9fe8b56",
   "metadata": {},
   "outputs": [],
   "source": [
    "URL = 'https://ommer-lab.com/files/latent-diffusion/kl-f8.zip'"
   ]
  },
  {
   "cell_type": "code",
   "execution_count": null,
   "id": "1e4d116d-a7e7-485d-856c-e75a2e121379",
   "metadata": {},
   "outputs": [],
   "source": []
  }
 ],
 "metadata": {
  "kernelspec": {
   "display_name": "ldm",
   "language": "python",
   "name": "ldm"
  },
  "language_info": {
   "codemirror_mode": {
    "name": "ipython",
    "version": 3
   },
   "file_extension": ".py",
   "mimetype": "text/x-python",
   "name": "python",
   "nbconvert_exporter": "python",
   "pygments_lexer": "ipython3",
   "version": "3.8.5"
  }
 },
 "nbformat": 4,
 "nbformat_minor": 5
}
