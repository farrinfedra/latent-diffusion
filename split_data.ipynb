{
 "cells": [
  {
   "cell_type": "code",
   "execution_count": 1,
   "id": "e4035d82-67b8-45ef-a6a8-fde6c8963f7a",
   "metadata": {},
   "outputs": [
    {
     "name": "stderr",
     "output_type": "stream",
     "text": [
      "/kuacc/users/fsofian19/.conda/envs/audio-image/lib/python3.9/site-packages/scipy/__init__.py:138: UserWarning: A NumPy version >=1.16.5 and <1.23.0 is required for this version of SciPy (detected version 1.23.1)\n",
      "  warnings.warn(f\"A NumPy version >={np_minversion} and <{np_maxversion} is required for this version of \"\n"
     ]
    }
   ],
   "source": [
    "from sklearn.model_selection import train_test_split\n",
    "import os\n",
    "import pandas as pd\n",
    "import shutil"
   ]
  },
  {
   "cell_type": "code",
   "execution_count": 3,
   "id": "eacbf1ee-974c-49df-80fa-b6562386b499",
   "metadata": {},
   "outputs": [
    {
     "name": "stdout",
     "output_type": "stream",
     "text": [
      "0,1,2,3\n"
     ]
    }
   ],
   "source": [
    "!echo $CUDA_VISIBLE_DEVICES"
   ]
  },
  {
   "cell_type": "code",
   "execution_count": 151,
   "id": "1e2c58c1-13a5-4556-9eb2-34d849931943",
   "metadata": {},
   "outputs": [],
   "source": [
    "#create a list of images\n",
    "path = './dataset/lhq_256/'\n",
    "images = os.listdir(path)"
   ]
  },
  {
   "cell_type": "code",
   "execution_count": 152,
   "id": "dccf4b2b-45e1-44fc-9961-397036bfc747",
   "metadata": {},
   "outputs": [],
   "source": [
    "filename = images.copy()\n",
    "paths = [path + file for file in filename]"
   ]
  },
  {
   "cell_type": "code",
   "execution_count": 153,
   "id": "d738c0a3-9181-4b96-9c2f-9384fd557542",
   "metadata": {},
   "outputs": [],
   "source": [
    "paths = [path.replace('./', '~/latent-diffusion/') for path in paths]"
   ]
  },
  {
   "cell_type": "code",
   "execution_count": 154,
   "id": "38e83c9d-6482-45f4-8a70-fb77dac10650",
   "metadata": {},
   "outputs": [],
   "source": [
    "di = {'filename': filename, 'path': paths}"
   ]
  },
  {
   "cell_type": "code",
   "execution_count": 155,
   "id": "133e04ad-6c7c-4b4b-bc33-623a785a0dea",
   "metadata": {},
   "outputs": [],
   "source": [
    "df = pd.DataFrame(di)"
   ]
  },
  {
   "cell_type": "code",
   "execution_count": 156,
   "id": "e757696b-035a-46c5-8495-91346b6d1aad",
   "metadata": {},
   "outputs": [],
   "source": [
    "train, test = train_test_split(df, test_size=0.2)"
   ]
  },
  {
   "cell_type": "code",
   "execution_count": 157,
   "id": "2e4bf302-0c8a-4382-889d-bb95300a4f06",
   "metadata": {},
   "outputs": [
    {
     "data": {
      "text/html": [
       "<div>\n",
       "<style scoped>\n",
       "    .dataframe tbody tr th:only-of-type {\n",
       "        vertical-align: middle;\n",
       "    }\n",
       "\n",
       "    .dataframe tbody tr th {\n",
       "        vertical-align: top;\n",
       "    }\n",
       "\n",
       "    .dataframe thead th {\n",
       "        text-align: right;\n",
       "    }\n",
       "</style>\n",
       "<table border=\"1\" class=\"dataframe\">\n",
       "  <thead>\n",
       "    <tr style=\"text-align: right;\">\n",
       "      <th></th>\n",
       "      <th>filename</th>\n",
       "      <th>path</th>\n",
       "    </tr>\n",
       "  </thead>\n",
       "  <tbody>\n",
       "    <tr>\n",
       "      <th>1158</th>\n",
       "      <td>0077851.png</td>\n",
       "      <td>~/latent-diffusion/dataset/lhq_256/0077851.png</td>\n",
       "    </tr>\n",
       "    <tr>\n",
       "      <th>15802</th>\n",
       "      <td>0040747.png</td>\n",
       "      <td>~/latent-diffusion/dataset/lhq_256/0040747.png</td>\n",
       "    </tr>\n",
       "    <tr>\n",
       "      <th>17009</th>\n",
       "      <td>0055710.png</td>\n",
       "      <td>~/latent-diffusion/dataset/lhq_256/0055710.png</td>\n",
       "    </tr>\n",
       "    <tr>\n",
       "      <th>13938</th>\n",
       "      <td>0048780.png</td>\n",
       "      <td>~/latent-diffusion/dataset/lhq_256/0048780.png</td>\n",
       "    </tr>\n",
       "    <tr>\n",
       "      <th>17466</th>\n",
       "      <td>0030939.png</td>\n",
       "      <td>~/latent-diffusion/dataset/lhq_256/0030939.png</td>\n",
       "    </tr>\n",
       "    <tr>\n",
       "      <th>...</th>\n",
       "      <td>...</td>\n",
       "      <td>...</td>\n",
       "    </tr>\n",
       "    <tr>\n",
       "      <th>7117</th>\n",
       "      <td>0026769.png</td>\n",
       "      <td>~/latent-diffusion/dataset/lhq_256/0026769.png</td>\n",
       "    </tr>\n",
       "    <tr>\n",
       "      <th>2799</th>\n",
       "      <td>0019981.png</td>\n",
       "      <td>~/latent-diffusion/dataset/lhq_256/0019981.png</td>\n",
       "    </tr>\n",
       "    <tr>\n",
       "      <th>14398</th>\n",
       "      <td>0048199.png</td>\n",
       "      <td>~/latent-diffusion/dataset/lhq_256/0048199.png</td>\n",
       "    </tr>\n",
       "    <tr>\n",
       "      <th>674</th>\n",
       "      <td>0058816.png</td>\n",
       "      <td>~/latent-diffusion/dataset/lhq_256/0058816.png</td>\n",
       "    </tr>\n",
       "    <tr>\n",
       "      <th>5790</th>\n",
       "      <td>0028961.png</td>\n",
       "      <td>~/latent-diffusion/dataset/lhq_256/0028961.png</td>\n",
       "    </tr>\n",
       "  </tbody>\n",
       "</table>\n",
       "<p>14400 rows × 2 columns</p>\n",
       "</div>"
      ],
      "text/plain": [
       "          filename                                            path\n",
       "1158   0077851.png  ~/latent-diffusion/dataset/lhq_256/0077851.png\n",
       "15802  0040747.png  ~/latent-diffusion/dataset/lhq_256/0040747.png\n",
       "17009  0055710.png  ~/latent-diffusion/dataset/lhq_256/0055710.png\n",
       "13938  0048780.png  ~/latent-diffusion/dataset/lhq_256/0048780.png\n",
       "17466  0030939.png  ~/latent-diffusion/dataset/lhq_256/0030939.png\n",
       "...            ...                                             ...\n",
       "7117   0026769.png  ~/latent-diffusion/dataset/lhq_256/0026769.png\n",
       "2799   0019981.png  ~/latent-diffusion/dataset/lhq_256/0019981.png\n",
       "14398  0048199.png  ~/latent-diffusion/dataset/lhq_256/0048199.png\n",
       "674    0058816.png  ~/latent-diffusion/dataset/lhq_256/0058816.png\n",
       "5790   0028961.png  ~/latent-diffusion/dataset/lhq_256/0028961.png\n",
       "\n",
       "[14400 rows x 2 columns]"
      ]
     },
     "execution_count": 157,
     "metadata": {},
     "output_type": "execute_result"
    }
   ],
   "source": [
    "train"
   ]
  },
  {
   "cell_type": "code",
   "execution_count": 158,
   "id": "c9e62725-5c3c-45f8-b6c5-6d38ec0332e4",
   "metadata": {},
   "outputs": [],
   "source": [
    "test, valid = train_test_split(test, test_size=0.5)"
   ]
  },
  {
   "cell_type": "code",
   "execution_count": 159,
   "id": "2cf8c2ca-dfb5-4939-b619-bc73056eed9c",
   "metadata": {},
   "outputs": [],
   "source": [
    "#test_label = ['test'] * 9000"
   ]
  },
  {
   "cell_type": "code",
   "execution_count": 160,
   "id": "5cc7cddd-10b8-48f2-ad72-1749cfd2a914",
   "metadata": {},
   "outputs": [],
   "source": [
    "#valid_label = ['valid'] * 9000"
   ]
  },
  {
   "cell_type": "code",
   "execution_count": 161,
   "id": "e8ca464f-8961-4a7e-a9ef-8d57d643a20a",
   "metadata": {},
   "outputs": [],
   "source": [
    "#train_label = ['train'] * 72000"
   ]
  },
  {
   "cell_type": "code",
   "execution_count": null,
   "id": "bcd5f6d1-dd5b-460b-b2f6-69a541a0edd6",
   "metadata": {},
   "outputs": [],
   "source": [
    "def add_split(df, label):\n",
    "    df['split'] = label"
   ]
  },
  {
   "cell_type": "code",
   "execution_count": 106,
   "id": "94f8063f-691a-474c-9898-74a6e7d2a79e",
   "metadata": {},
   "outputs": [],
   "source": [
    "add_split(train, train_label)"
   ]
  },
  {
   "cell_type": "code",
   "execution_count": 108,
   "id": "e15023ad-efe1-4fc5-b189-7a56705b0e25",
   "metadata": {},
   "outputs": [],
   "source": [
    "add_split(test, test_label)"
   ]
  },
  {
   "cell_type": "code",
   "execution_count": 110,
   "id": "96871f79-d4de-43e1-892b-b39764a7002c",
   "metadata": {},
   "outputs": [],
   "source": [
    "add_split(valid, valid_label)"
   ]
  },
  {
   "cell_type": "code",
   "execution_count": 120,
   "id": "81f18436-33ae-409f-b3ac-ab99e88c3251",
   "metadata": {},
   "outputs": [],
   "source": [
    "def save_file(df, st):\n",
    "    name = str(st)\n",
    "    print(name)\n",
    "    df.to_csv(f\"{name}.csv\", index = False)"
   ]
  },
  {
   "cell_type": "code",
   "execution_count": 123,
   "id": "a9386a1c-1d6b-420d-b199-1d9e27d8b73a",
   "metadata": {},
   "outputs": [
    {
     "name": "stdout",
     "output_type": "stream",
     "text": [
      "valid\n"
     ]
    }
   ],
   "source": [
    "save_file(valid, 'valid')"
   ]
  },
  {
   "cell_type": "code",
   "execution_count": 124,
   "id": "5a649753-e17e-4ae6-9c59-59cdf1e5d5ad",
   "metadata": {},
   "outputs": [],
   "source": [
    "all_frames = [train, valid, test]"
   ]
  },
  {
   "cell_type": "code",
   "execution_count": 129,
   "id": "4a4171c1-f760-436f-b302-9c1921ffe565",
   "metadata": {},
   "outputs": [],
   "source": [
    "all_df = pd.concat(all_frames,axis=0)"
   ]
  },
  {
   "cell_type": "code",
   "execution_count": 130,
   "id": "c6b4a9b5-3b13-4b76-b91b-e4c31e5e9e45",
   "metadata": {},
   "outputs": [
    {
     "name": "stdout",
     "output_type": "stream",
     "text": [
      "dataset\n"
     ]
    }
   ],
   "source": [
    "save_file(all_df, 'dataset')"
   ]
  },
  {
   "cell_type": "markdown",
   "id": "81c6d697-47a0-410f-9a29-0efc27b86eae",
   "metadata": {},
   "source": [
    "### Move data"
   ]
  },
  {
   "cell_type": "code",
   "execution_count": 202,
   "id": "a782ac48-03f3-4291-9562-fe73934f3f09",
   "metadata": {},
   "outputs": [],
   "source": [
    "train_path = 'dataset/train'\n",
    "test_path = 'dataset/test'\n",
    "valid_path = 'dataset/valid'"
   ]
  },
  {
   "cell_type": "code",
   "execution_count": 203,
   "id": "e9e4e393-ed1d-4a05-b179-3003e06225d7",
   "metadata": {},
   "outputs": [],
   "source": [
    "#train_images = train['path'].tolist()"
   ]
  },
  {
   "cell_type": "code",
   "execution_count": 204,
   "id": "baebc6ed-d329-432d-8d6a-41683b3fa5c3",
   "metadata": {},
   "outputs": [],
   "source": [
    "train_images = [t.replace('~', '/kuacc/users/fsofian19') for t in train_images]"
   ]
  },
  {
   "cell_type": "code",
   "execution_count": 205,
   "id": "4b18c94a-cb91-4e46-8278-1135f4018370",
   "metadata": {},
   "outputs": [],
   "source": [
    "data = pd.read_csv('csv/dataset.csv')"
   ]
  },
  {
   "cell_type": "code",
   "execution_count": 206,
   "id": "8a342c42-71f5-40ce-8bbf-5964f4cd90b6",
   "metadata": {},
   "outputs": [],
   "source": [
    "data.path = data.path.str.replace('~', '/kuacc/users/fsofian19')"
   ]
  },
  {
   "cell_type": "code",
   "execution_count": 207,
   "id": "e83e960e-f654-466b-8a98-333ed1764f73",
   "metadata": {},
   "outputs": [],
   "source": [
    "train_set = data[data['split'] == 'train']['path'].tolist()"
   ]
  },
  {
   "cell_type": "code",
   "execution_count": 208,
   "id": "3a2cd170-b355-4d4f-adf7-6cff1d9a907c",
   "metadata": {},
   "outputs": [],
   "source": [
    "test_set = data[data['split'] == 'test']['path'].tolist()\n",
    "valid_set = data[data['split'] == 'valid']['path'].tolist()"
   ]
  },
  {
   "cell_type": "code",
   "execution_count": 210,
   "id": "4114ae92-afc4-4071-9339-e6b0341fe983",
   "metadata": {},
   "outputs": [],
   "source": [
    "for img in train_set:\n",
    "    dest = img.replace('lhq_256', 'train')\n",
    "    shutil.copyfile(img, dest)"
   ]
  },
  {
   "cell_type": "code",
   "execution_count": 211,
   "id": "b6687223-0680-4b77-a808-82d38fb5fc0f",
   "metadata": {},
   "outputs": [],
   "source": [
    "for img in test_set:\n",
    "    dest = img.replace('lhq_256', 'test')\n",
    "    shutil.copyfile(img, dest)"
   ]
  },
  {
   "cell_type": "code",
   "execution_count": 212,
   "id": "d6933aa0-07a4-417d-908a-c7ed0a09b4f4",
   "metadata": {},
   "outputs": [],
   "source": [
    "for i in valid_set:\n",
    "    d = i.replace('lhq_256', 'valid')\n",
    "    shutil.copyfile(i, d)"
   ]
  },
  {
   "cell_type": "markdown",
   "id": "95b04e04-0762-4c4e-a6fa-bc3704dee126",
   "metadata": {},
   "source": [
    "### Create txt files"
   ]
  },
  {
   "cell_type": "code",
   "execution_count": 2,
   "id": "c357f4bc-5df9-41ae-b093-b150d4b40646",
   "metadata": {},
   "outputs": [],
   "source": [
    "data = pd.read_csv('csv/dataset.csv')"
   ]
  },
  {
   "cell_type": "code",
   "execution_count": 13,
   "id": "1cb0115f-e576-4a7d-b665-49c783f8a115",
   "metadata": {},
   "outputs": [],
   "source": [
    "data['path'] = data['path'].str.replace('~', '/kuacc/users/fsofian19')"
   ]
  },
  {
   "cell_type": "code",
   "execution_count": 15,
   "id": "f47dae50-2be6-45a8-a375-c5833d300a2c",
   "metadata": {},
   "outputs": [],
   "source": [
    "train_paths = data[data['split'] == 'train']['path']"
   ]
  },
  {
   "cell_type": "code",
   "execution_count": 16,
   "id": "8d8bbc39-1010-43fd-a712-45df14fc610d",
   "metadata": {},
   "outputs": [],
   "source": [
    "test_paths = data[data['split'] == 'test']['path']"
   ]
  },
  {
   "cell_type": "code",
   "execution_count": 17,
   "id": "e55c6166-d0fa-4640-b9d8-0775e0ae5c97",
   "metadata": {},
   "outputs": [],
   "source": [
    "valid_paths = data[data['split'] == 'valid']['path']"
   ]
  },
  {
   "cell_type": "code",
   "execution_count": 20,
   "id": "3d073db1-778c-4871-afb7-efb67d2271d5",
   "metadata": {},
   "outputs": [],
   "source": [
    "with open('test.txt', 'w') as f:\n",
    "    for line in test_paths:\n",
    "        f.write(line)\n",
    "        f.write('\\n')"
   ]
  },
  {
   "cell_type": "code",
   "execution_count": null,
   "id": "9e2789c2-d8b6-4397-9865-5db6dc370687",
   "metadata": {},
   "outputs": [],
   "source": []
  }
 ],
 "metadata": {
  "kernelspec": {
   "display_name": "audio-image",
   "language": "python",
   "name": "audio-image"
  },
  "language_info": {
   "codemirror_mode": {
    "name": "ipython",
    "version": 3
   },
   "file_extension": ".py",
   "mimetype": "text/x-python",
   "name": "python",
   "nbconvert_exporter": "python",
   "pygments_lexer": "ipython3",
   "version": "3.9.5"
  }
 },
 "nbformat": 4,
 "nbformat_minor": 5
}
